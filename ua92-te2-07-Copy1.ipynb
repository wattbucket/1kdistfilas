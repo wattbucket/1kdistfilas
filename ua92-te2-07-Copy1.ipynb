{
 "cells": [
  {
   "cell_type": "code",
   "execution_count": 2,
   "metadata": {},
   "outputs": [
    {
     "data": {
      "text/html": [
       "<script>\n",
       "code_show=true; \n",
       "function code_toggle() {\n",
       " if (code_show){\n",
       " $('div.input').hide();\n",
       " } else {\n",
       " $('div.input').show();\n",
       " }\n",
       " code_show = !code_show\n",
       "} \n",
       "$( document ).ready(code_toggle);\n",
       "</script>\n",
       "<form action=\"javascript:code_toggle()\"><input type=\"submit\" value=\" \n",
       "Curso: Diseño y mantenimiento de instalaciones de energía solar fotovoltaica\n",
       "Alumno: Francisco Manuel Roman Gamez\n",
       "\n",
       "\"></form>\n"
      ],
      "text/plain": [
       "<IPython.core.display.HTML object>"
      ]
     },
     "metadata": {},
     "output_type": "display_data"
    }
   ],
   "source": [
    "%%html\n",
    "<script>\n",
    "code_show=true; \n",
    "function code_toggle() {\n",
    " if (code_show){\n",
    " $('div.input').hide();\n",
    " } else {\n",
    " $('div.input').show();\n",
    " }\n",
    " code_show = !code_show\n",
    "} \n",
    "$( document ).ready(code_toggle);\n",
    "</script>\n",
    "<form action=\"javascript:code_toggle()\"><input type=\"submit\" value=\" \n",
    "Curso: Diseño y mantenimiento de instalaciones de energía solar fotovoltaica\n",
    "Alumno: Francisco Manuel Roman Gamez\n",
    "\n",
    "\"></form>"
   ]
  },
  {
   "cell_type": "code",
   "execution_count": 1,
   "metadata": {
    "code_folding": []
   },
   "outputs": [
    {
     "ename": "FileNotFoundError",
     "evalue": "[Errno 2] No such file or directory: 'figs/ua92-te2-07plt.png'",
     "output_type": "error",
     "traceback": [
      "\u001b[0;31m---------------------------------------------------------------------------\u001b[0m",
      "\u001b[0;31mFileNotFoundError\u001b[0m                         Traceback (most recent call last)",
      "\u001b[0;32m<ipython-input-1-a18562adec81>\u001b[0m in \u001b[0;36m<module>\u001b[0;34m\u001b[0m\n\u001b[1;32m     55\u001b[0m \u001b[0max\u001b[0m\u001b[0;34m.\u001b[0m\u001b[0mset_xlabel\u001b[0m\u001b[0;34m(\u001b[0m\u001b[0;34m'Mes'\u001b[0m\u001b[0;34m)\u001b[0m\u001b[0;34m\u001b[0m\u001b[0;34m\u001b[0m\u001b[0m\n\u001b[1;32m     56\u001b[0m \u001b[0max\u001b[0m\u001b[0;34m.\u001b[0m\u001b[0mset_title\u001b[0m\u001b[0;34m(\u001b[0m\u001b[0;34m'Generador '\u001b[0m\u001b[0;34m+\u001b[0m\u001b[0mstr\u001b[0m\u001b[0;34m(\u001b[0m\u001b[0mpmp\u001b[0m\u001b[0;34m)\u001b[0m\u001b[0;34m+\u001b[0m\u001b[0;34m' kWp'\u001b[0m\u001b[0;34m+\u001b[0m\u001b[0;34m' en '\u001b[0m\u001b[0;34m+\u001b[0m\u001b[0mciudad\u001b[0m\u001b[0;34m+\u001b[0m\u001b[0;34m' Lat.:'\u001b[0m\u001b[0;34m+\u001b[0m\u001b[0mstr\u001b[0m\u001b[0;34m(\u001b[0m\u001b[0mlatitud\u001b[0m\u001b[0;34m)\u001b[0m\u001b[0;34m+\u001b[0m\u001b[0;34m', orient.:'\u001b[0m\u001b[0;34m+\u001b[0m\u001b[0mstr\u001b[0m\u001b[0;34m(\u001b[0m\u001b[0morientacion\u001b[0m\u001b[0;34m)\u001b[0m\u001b[0;34m+\u001b[0m\u001b[0;34m', incl.:'\u001b[0m\u001b[0;34m+\u001b[0m\u001b[0mstr\u001b[0m\u001b[0;34m(\u001b[0m\u001b[0minclinacion\u001b[0m\u001b[0;34m)\u001b[0m\u001b[0;34m)\u001b[0m\u001b[0;34m\u001b[0m\u001b[0;34m\u001b[0m\u001b[0m\n\u001b[0;32m---> 57\u001b[0;31m \u001b[0mfig\u001b[0m\u001b[0;34m.\u001b[0m\u001b[0msavefig\u001b[0m\u001b[0;34m(\u001b[0m\u001b[0;34m'figs/'\u001b[0m\u001b[0;34m+\u001b[0m\u001b[0mproyecto\u001b[0m\u001b[0;34m+\u001b[0m\u001b[0;34m'plt.png'\u001b[0m\u001b[0;34m)\u001b[0m\u001b[0;34m\u001b[0m\u001b[0;34m\u001b[0m\u001b[0m\n\u001b[0m\u001b[1;32m     58\u001b[0m \u001b[0mplt\u001b[0m\u001b[0;34m.\u001b[0m\u001b[0mclose\u001b[0m\u001b[0;34m(\u001b[0m\u001b[0;34m)\u001b[0m\u001b[0;34m\u001b[0m\u001b[0;34m\u001b[0m\u001b[0m\n",
      "\u001b[0;32m~/.env/lib/python3.6/site-packages/matplotlib/figure.py\u001b[0m in \u001b[0;36msavefig\u001b[0;34m(self, fname, transparent, **kwargs)\u001b[0m\n\u001b[1;32m   2201\u001b[0m             \u001b[0mself\u001b[0m\u001b[0;34m.\u001b[0m\u001b[0mpatch\u001b[0m\u001b[0;34m.\u001b[0m\u001b[0mset_visible\u001b[0m\u001b[0;34m(\u001b[0m\u001b[0mframeon\u001b[0m\u001b[0;34m)\u001b[0m\u001b[0;34m\u001b[0m\u001b[0;34m\u001b[0m\u001b[0m\n\u001b[1;32m   2202\u001b[0m \u001b[0;34m\u001b[0m\u001b[0m\n\u001b[0;32m-> 2203\u001b[0;31m         \u001b[0mself\u001b[0m\u001b[0;34m.\u001b[0m\u001b[0mcanvas\u001b[0m\u001b[0;34m.\u001b[0m\u001b[0mprint_figure\u001b[0m\u001b[0;34m(\u001b[0m\u001b[0mfname\u001b[0m\u001b[0;34m,\u001b[0m \u001b[0;34m**\u001b[0m\u001b[0mkwargs\u001b[0m\u001b[0;34m)\u001b[0m\u001b[0;34m\u001b[0m\u001b[0;34m\u001b[0m\u001b[0m\n\u001b[0m\u001b[1;32m   2204\u001b[0m \u001b[0;34m\u001b[0m\u001b[0m\n\u001b[1;32m   2205\u001b[0m         \u001b[0;32mif\u001b[0m \u001b[0mframeon\u001b[0m\u001b[0;34m:\u001b[0m\u001b[0;34m\u001b[0m\u001b[0;34m\u001b[0m\u001b[0m\n",
      "\u001b[0;32m~/.env/lib/python3.6/site-packages/matplotlib/backend_bases.py\u001b[0m in \u001b[0;36mprint_figure\u001b[0;34m(self, filename, dpi, facecolor, edgecolor, orientation, format, bbox_inches, **kwargs)\u001b[0m\n\u001b[1;32m   2103\u001b[0m                     \u001b[0morientation\u001b[0m\u001b[0;34m=\u001b[0m\u001b[0morientation\u001b[0m\u001b[0;34m,\u001b[0m\u001b[0;34m\u001b[0m\u001b[0;34m\u001b[0m\u001b[0m\n\u001b[1;32m   2104\u001b[0m                     \u001b[0mbbox_inches_restore\u001b[0m\u001b[0;34m=\u001b[0m\u001b[0m_bbox_inches_restore\u001b[0m\u001b[0;34m,\u001b[0m\u001b[0;34m\u001b[0m\u001b[0;34m\u001b[0m\u001b[0m\n\u001b[0;32m-> 2105\u001b[0;31m                     **kwargs)\n\u001b[0m\u001b[1;32m   2106\u001b[0m             \u001b[0;32mfinally\u001b[0m\u001b[0;34m:\u001b[0m\u001b[0;34m\u001b[0m\u001b[0;34m\u001b[0m\u001b[0m\n\u001b[1;32m   2107\u001b[0m                 \u001b[0;32mif\u001b[0m \u001b[0mbbox_inches\u001b[0m \u001b[0;32mand\u001b[0m \u001b[0mrestore_bbox\u001b[0m\u001b[0;34m:\u001b[0m\u001b[0;34m\u001b[0m\u001b[0;34m\u001b[0m\u001b[0m\n",
      "\u001b[0;32m~/.env/lib/python3.6/site-packages/matplotlib/backends/backend_agg.py\u001b[0m in \u001b[0;36mprint_png\u001b[0;34m(self, filename_or_obj, metadata, pil_kwargs, *args, **kwargs)\u001b[0m\n\u001b[1;32m    533\u001b[0m         \u001b[0;32melse\u001b[0m\u001b[0;34m:\u001b[0m\u001b[0;34m\u001b[0m\u001b[0;34m\u001b[0m\u001b[0m\n\u001b[1;32m    534\u001b[0m             \u001b[0mrenderer\u001b[0m \u001b[0;34m=\u001b[0m \u001b[0mself\u001b[0m\u001b[0;34m.\u001b[0m\u001b[0mget_renderer\u001b[0m\u001b[0;34m(\u001b[0m\u001b[0;34m)\u001b[0m\u001b[0;34m\u001b[0m\u001b[0;34m\u001b[0m\u001b[0m\n\u001b[0;32m--> 535\u001b[0;31m             \u001b[0;32mwith\u001b[0m \u001b[0mcbook\u001b[0m\u001b[0;34m.\u001b[0m\u001b[0mopen_file_cm\u001b[0m\u001b[0;34m(\u001b[0m\u001b[0mfilename_or_obj\u001b[0m\u001b[0;34m,\u001b[0m \u001b[0;34m\"wb\"\u001b[0m\u001b[0;34m)\u001b[0m \u001b[0;32mas\u001b[0m \u001b[0mfh\u001b[0m\u001b[0;34m:\u001b[0m\u001b[0;34m\u001b[0m\u001b[0;34m\u001b[0m\u001b[0m\n\u001b[0m\u001b[1;32m    536\u001b[0m                 _png.write_png(renderer._renderer, fh, self.figure.dpi,\n\u001b[1;32m    537\u001b[0m                                metadata={**default_metadata, **metadata})\n",
      "\u001b[0;32m/usr/lib/python3.6/contextlib.py\u001b[0m in \u001b[0;36m__enter__\u001b[0;34m(self)\u001b[0m\n\u001b[1;32m     79\u001b[0m     \u001b[0;32mdef\u001b[0m \u001b[0m__enter__\u001b[0m\u001b[0;34m(\u001b[0m\u001b[0mself\u001b[0m\u001b[0;34m)\u001b[0m\u001b[0;34m:\u001b[0m\u001b[0;34m\u001b[0m\u001b[0;34m\u001b[0m\u001b[0m\n\u001b[1;32m     80\u001b[0m         \u001b[0;32mtry\u001b[0m\u001b[0;34m:\u001b[0m\u001b[0;34m\u001b[0m\u001b[0;34m\u001b[0m\u001b[0m\n\u001b[0;32m---> 81\u001b[0;31m             \u001b[0;32mreturn\u001b[0m \u001b[0mnext\u001b[0m\u001b[0;34m(\u001b[0m\u001b[0mself\u001b[0m\u001b[0;34m.\u001b[0m\u001b[0mgen\u001b[0m\u001b[0;34m)\u001b[0m\u001b[0;34m\u001b[0m\u001b[0;34m\u001b[0m\u001b[0m\n\u001b[0m\u001b[1;32m     82\u001b[0m         \u001b[0;32mexcept\u001b[0m \u001b[0mStopIteration\u001b[0m\u001b[0;34m:\u001b[0m\u001b[0;34m\u001b[0m\u001b[0;34m\u001b[0m\u001b[0m\n\u001b[1;32m     83\u001b[0m             \u001b[0;32mraise\u001b[0m \u001b[0mRuntimeError\u001b[0m\u001b[0;34m(\u001b[0m\u001b[0;34m\"generator didn't yield\"\u001b[0m\u001b[0;34m)\u001b[0m \u001b[0;32mfrom\u001b[0m \u001b[0;32mNone\u001b[0m\u001b[0;34m\u001b[0m\u001b[0;34m\u001b[0m\u001b[0m\n",
      "\u001b[0;32m~/.env/lib/python3.6/site-packages/matplotlib/cbook/__init__.py\u001b[0m in \u001b[0;36mopen_file_cm\u001b[0;34m(path_or_file, mode, encoding)\u001b[0m\n\u001b[1;32m    416\u001b[0m \u001b[0;32mdef\u001b[0m \u001b[0mopen_file_cm\u001b[0m\u001b[0;34m(\u001b[0m\u001b[0mpath_or_file\u001b[0m\u001b[0;34m,\u001b[0m \u001b[0mmode\u001b[0m\u001b[0;34m=\u001b[0m\u001b[0;34m\"r\"\u001b[0m\u001b[0;34m,\u001b[0m \u001b[0mencoding\u001b[0m\u001b[0;34m=\u001b[0m\u001b[0;32mNone\u001b[0m\u001b[0;34m)\u001b[0m\u001b[0;34m:\u001b[0m\u001b[0;34m\u001b[0m\u001b[0;34m\u001b[0m\u001b[0m\n\u001b[1;32m    417\u001b[0m     \u001b[0;34mr\"\"\"Pass through file objects and context-manage `.PathLike`\\s.\"\"\"\u001b[0m\u001b[0;34m\u001b[0m\u001b[0;34m\u001b[0m\u001b[0m\n\u001b[0;32m--> 418\u001b[0;31m     \u001b[0mfh\u001b[0m\u001b[0;34m,\u001b[0m \u001b[0mopened\u001b[0m \u001b[0;34m=\u001b[0m \u001b[0mto_filehandle\u001b[0m\u001b[0;34m(\u001b[0m\u001b[0mpath_or_file\u001b[0m\u001b[0;34m,\u001b[0m \u001b[0mmode\u001b[0m\u001b[0;34m,\u001b[0m \u001b[0;32mTrue\u001b[0m\u001b[0;34m,\u001b[0m \u001b[0mencoding\u001b[0m\u001b[0;34m)\u001b[0m\u001b[0;34m\u001b[0m\u001b[0;34m\u001b[0m\u001b[0m\n\u001b[0m\u001b[1;32m    419\u001b[0m     \u001b[0;32mif\u001b[0m \u001b[0mopened\u001b[0m\u001b[0;34m:\u001b[0m\u001b[0;34m\u001b[0m\u001b[0;34m\u001b[0m\u001b[0m\n\u001b[1;32m    420\u001b[0m         \u001b[0;32mwith\u001b[0m \u001b[0mfh\u001b[0m\u001b[0;34m:\u001b[0m\u001b[0;34m\u001b[0m\u001b[0;34m\u001b[0m\u001b[0m\n",
      "\u001b[0;32m~/.env/lib/python3.6/site-packages/matplotlib/cbook/__init__.py\u001b[0m in \u001b[0;36mto_filehandle\u001b[0;34m(fname, flag, return_opened, encoding)\u001b[0m\n\u001b[1;32m    401\u001b[0m             \u001b[0mfh\u001b[0m \u001b[0;34m=\u001b[0m \u001b[0mbz2\u001b[0m\u001b[0;34m.\u001b[0m\u001b[0mBZ2File\u001b[0m\u001b[0;34m(\u001b[0m\u001b[0mfname\u001b[0m\u001b[0;34m,\u001b[0m \u001b[0mflag\u001b[0m\u001b[0;34m)\u001b[0m\u001b[0;34m\u001b[0m\u001b[0;34m\u001b[0m\u001b[0m\n\u001b[1;32m    402\u001b[0m         \u001b[0;32melse\u001b[0m\u001b[0;34m:\u001b[0m\u001b[0;34m\u001b[0m\u001b[0;34m\u001b[0m\u001b[0m\n\u001b[0;32m--> 403\u001b[0;31m             \u001b[0mfh\u001b[0m \u001b[0;34m=\u001b[0m \u001b[0mopen\u001b[0m\u001b[0;34m(\u001b[0m\u001b[0mfname\u001b[0m\u001b[0;34m,\u001b[0m \u001b[0mflag\u001b[0m\u001b[0;34m,\u001b[0m \u001b[0mencoding\u001b[0m\u001b[0;34m=\u001b[0m\u001b[0mencoding\u001b[0m\u001b[0;34m)\u001b[0m\u001b[0;34m\u001b[0m\u001b[0;34m\u001b[0m\u001b[0m\n\u001b[0m\u001b[1;32m    404\u001b[0m         \u001b[0mopened\u001b[0m \u001b[0;34m=\u001b[0m \u001b[0;32mTrue\u001b[0m\u001b[0;34m\u001b[0m\u001b[0;34m\u001b[0m\u001b[0m\n\u001b[1;32m    405\u001b[0m     \u001b[0;32melif\u001b[0m \u001b[0mhasattr\u001b[0m\u001b[0;34m(\u001b[0m\u001b[0mfname\u001b[0m\u001b[0;34m,\u001b[0m \u001b[0;34m'seek'\u001b[0m\u001b[0;34m)\u001b[0m\u001b[0;34m:\u001b[0m\u001b[0;34m\u001b[0m\u001b[0;34m\u001b[0m\u001b[0m\n",
      "\u001b[0;31mFileNotFoundError\u001b[0m: [Errno 2] No such file or directory: 'figs/ua92-te2-07plt.png'"
     ]
    },
    {
     "data": {
      "image/png": "[encoded data removed]",
      "text/plain": [
       "<Figure size 1080x576 with 1 Axes>"
      ]
     },
     "metadata": {
      "needs_background": "light"
     },
     "output_type": "display_data"
    }
   ],
   "source": [
    "# /////////////////////////////////////////\n",
    "proyecto='ua92-te2-07'\n",
    "import pandas as pd\n",
    "import numpy as np\n",
    "\n",
    "# de los daltos del problema\n",
    "pmp=80 \n",
    "# pmp=1\n",
    "ciudad='Toledo'\n",
    "latitud=40\n",
    "orientacion=0\n",
    "inclinacion=30\n",
    "incl_tabla_k=[0,5,10,15,20,25,30,35,40,45,50,55,60,65,70,75,80,85,90]\n",
    "inclinacion_k=min(incl_tabla_k, key=lambda x:abs(x-inclinacion))\n",
    "# ctes\n",
    "pr=0.8 #performance ratio\n",
    "gcem=1\n",
    "\n",
    "\n",
    "s=pd.DataFrame()\n",
    "s=pd.read_csv('tablas/cheq4.csv', index_col=0, header=0)\n",
    "s=s[['dias','h',ciudad]]\n",
    "s.rename(columns={ciudad:'H'}, inplace=True)\n",
    "\n",
    "\n",
    "# \n",
    "k=pd.DataFrame()\n",
    "k=pd.read_csv('tablas/k'+str(latitud)+'.csv', index_col=0, header=0)\n",
    "k=k.T\n",
    "ki=k[[inclinacion_k]]\n",
    "# anadir la k \n",
    "s=s.join(ki)\n",
    "s.rename(columns={inclinacion_k:'k'}, inplace=True)\n",
    "# \n",
    "s['Gdm_0']=round(s.H/3.6,2)\n",
    "s['Gdm_I']=round(s.H*s.k/3.6,2)\n",
    "s['PR']=0.8\n",
    "s['Ep']=round(s.Gdm_I*pmp*s.PR/gcem,2) \n",
    "s['Epm']=s.dias*s.Ep\n",
    "s=s[['Gdm_0','Gdm_I','PR','Ep','Epm']]\n",
    "s.rename(columns={'Gdm_0':'$G_{dm}$','Gdm_I':'$G_{dmI}$'}, inplace=True)\n",
    "\n",
    "y=s[['Epm']].values\n",
    "ee=np.cumsum(y)\n",
    "ea=round(ee[len(y)-1],2)\n",
    "# ea\n",
    "x=s.index\n",
    "y=y.flatten()\n",
    "\n",
    "import matplotlib.pyplot as plt\n",
    "fig,ax=plt.subplots(figsize=(15,8))\n",
    "\n",
    "ax.bar(x, y)\n",
    "ax.set_ylabel('kWh')\n",
    "ax.set_xlabel('Mes')\n",
    "ax.set_title('Generador '+str(pmp)+' kWp'+' en '+ciudad+' Lat.:'+str(latitud)+', orient.:'+str(orientacion)+', incl.:'+str(inclinacion))\n",
    "fig.savefig('figs/'+proyecto+'plt.png')\n",
    "plt.close()\n"
   ]
  },
  {
   "cell_type": "markdown",
   "metadata": {
    "variables": {
     "ciudad": {},
     "inclinacion": {},
     "latitud": {},
     "pmp": {}
    }
   },
   "source": [
    "**7.- Calcula la energía producida por un generador fotovoltaico de 80 Kwp instalados en la ciudad de Toledo con los módulos fotovoltaicos instalados con inclinación de 30º respecto a la horizontal y orientados a sur.**\n",
    "\n",
    "__RESPUESTA:__\n",
    "\n",
    "# Cálculo de la producción anual esperada\n",
    "\n",
    "Se utiliza  metodo del IDAE del apartado 7 del Pliego de Condiciones\n",
    "Técnicas de Instalaciones Conectadas a Red, Cálculo de la producción anual esperada.\n",
    "\n",
    "- En  la  Memoria  se  incluirán  las  producciones  mensuales  máximas  teóricas  en  función  de  la  irradiancia, la potencia instalada y el rendimiento de la instalación.\n",
    "\n",
    "- Los datos de entrada que deberá aportar el instalador son los siguientes: \n",
    "\n",
    "    - $G_{dm}(0)$. Valor  medio  mensual  y  anual  de  la  irradiación  diaria  sobre  superficie  horizontal,  en  $kWh/(m^2 \\cdot día)$, obtenido a partir de alguna de las siguientes fuentes: \n",
    "    \n",
    "        - Agencia Estatal de Meteorología. \n",
    "        - Organismo autonómico oficial. \n",
    "        - Otras fuentes de datos de reconocida solvencia, o las expresamente señaladas por el IDAE. \n",
    "\n",
    "    - $G_{dm}(\\alpha , \\beta  )$. Valor  medio  mensual  y  anual  de  la  irradiación  diaria  sobre  el  plano  del  generador  en  $kWh/(m^2 \\cdot día)$, obtenido a partir del anterior, y en el que se hayan descontado las pérdidas por sombreado en caso de ser éstas superiores a un 10 % anual . El parámetro $\\alpha$ representa el azimut y $\\beta$ la inclinación del generador.\n",
    "    $$\n",
    "    G_{dm}(\\alpha , \\beta  )=G_{dm}(0) \\cdot k  \\label{eq1}\n",
    "    $$\n",
    "    - Rendimiento energético de la instalación o “performance ratio”, PR. Eficiencia de la instalación en condiciones reales de trabajo, que tiene en cuenta: \n",
    "        - La dependencia de la eficiencia con la temperatura. \n",
    "        -  La eficiencia del cableado. \n",
    "        -  Las pérdidas por dispersión de parámetros y suciedad. \n",
    "        -  Las pérdidas por errores en el seguimiento del punto de máxima potencia. \n",
    "        -  La eficiencia energética del inversor. \n",
    "        -  Otros.\n",
    "\n",
    "    - La estimación de la energía inyectada se realizará de acuerdo con la siguiente ecuación: \n",
    " \n",
    " $$\n",
    " E_p=\\frac { G_{dm}(\\alpha, \\beta) \\cdot P_{mp} \\cdot PR}{G_{CEM}} \\label{eq2}\n",
    " $$\n",
    " \n",
    "         - Donde:\n",
    "         \n",
    "$P_{mp}$= Potencia pico del generador\n",
    "\n",
    "$G_{CEM}=1 kW/m^2$\n",
    "\n",
    "__para el proyecto,__ \n",
    "\n",
    "y los valores de la instalacion:\n",
    "* $P_{mp}$= {{pmp}} KW ; Potencia pico del generador fotovoltaico  \n",
    "* $G_{CEM}$ =  1 kW/m^2; Irradiancia en Condiciones Estándar de Medida\n",
    "* $PR$=0.8 ; Performance ratio (PR) estimado constante a lo largo del año.\n",
    "* $ G_{dm}=G_{dm}(0)$ en $kWh/m^2 \\cdot dia$;  Se obienen los datos con el programa CHEQ4 para {{ciudad}}\n",
    "* $k$; coeficiente que es función de la inclinación {{inclinacion}} de los captadores y la latitud de {{latitud}}$^o$, mas cercanos cotenidos en las tablas del PCT de instalaciones de baja temperatura del IDAE\n",
    "* $ G_{dmI}=G_{dm}(\\alpha, \\beta) $ en $kWh/m^2 \\cdot dia$;  Se obtiene aplicando la formula $(\\ref{eq1})$\n",
    "* $E_p $ en $kWh/dia$;  Se obtiene aplicando la formula $(\\ref{eq2})$\n",
    "* $E_{pm} = E_p \\cdot dias_{mes}$ en $kWh$; Estimación de energía mensual inyectada  \n"
   ]
  },
  {
   "cell_type": "markdown",
   "metadata": {
    "variables": {
     "ea": {},
     "s": {}
    }
   },
   "source": [
    ">$E_{anual}=${{ea}} kWh\n",
    "\n",
    "Se genera la tabla con los valores medios diarios y mensuales .\n",
    "{{s}}\n",
    "\n",
    "\n",
    "![alt text](figs/ua92-te2-07plt.png \"Title\")"
   ]
  },
  {
   "cell_type": "code",
   "execution_count": null,
   "metadata": {},
   "outputs": [],
   "source": [
    "%%html\n",
    "<script>\n",
    "code_show=true; \n",
    "function code_toggle() {\n",
    " if (code_show){\n",
    " $('div.input').hide();\n",
    " } else {\n",
    " $('div.input').show();\n",
    " }\n",
    " code_show = !code_show\n",
    "} \n",
    "$( document ).ready(code_toggle);\n",
    "</script>\n",
    "<form action=\"javascript:code_toggle()\"><input type=\"submit\" value=\" \n",
    "Curso: Diseño y mantenimiento de instalaciones de energía solar fotovoltaica\n",
    "Alumno: Francisco Manuel Roman Gamez\n",
    "\n",
    "\"></form>"
   ]
  },
  {
   "cell_type": "code",
   "execution_count": null,
   "metadata": {},
   "outputs": [],
   "source": []
  }
 ],
 "metadata": {
  "kernelspec": {
   "display_name": "Python 3",
   "language": "python",
   "name": "python3"
  },
  "language_info": {
   "codemirror_mode": {
    "name": "ipython",
    "version": 3
   },
   "file_extension": ".py",
   "mimetype": "text/x-python",
   "name": "python",
   "nbconvert_exporter": "python",
   "pygments_lexer": "ipython3",
   "version": "3.6.9"
  },
  "latex_envs": {
   "LaTeX_envs_menu_present": true,
   "autoclose": false,
   "autocomplete": true,
   "bibliofile": "biblio.bib",
   "cite_by": "apalike",
   "current_citInitial": 1,
   "eqLabelWithNumbers": true,
   "eqNumInitial": 1,
   "hotkeys": {
    "equation": "Ctrl-E",
    "itemize": "Ctrl-I"
   },
   "labels_anchors": false,
   "latex_user_defs": false,
   "report_style_numbering": false,
   "user_envs_cfg": false
  },
  "varInspector": {
   "cols": {
    "lenName": 16,
    "lenType": 16,
    "lenVar": 40
   },
   "kernels_config": {
    "python": {
     "delete_cmd_postfix": "",
     "delete_cmd_prefix": "del ",
     "library": "var_list.py",
     "varRefreshCmd": "print(var_dic_list())"
    },
    "r": {
     "delete_cmd_postfix": ") ",
     "delete_cmd_prefix": "rm(",
     "library": "var_list.r",
     "varRefreshCmd": "cat(var_dic_list()) "
    }
   },
   "types_to_exclude": [
    "module",
    "function",
    "builtin_function_or_method",
    "instance",
    "_Feature"
   ],
   "window_display": false
  }
 },
 "nbformat": 4,
 "nbformat_minor": 4
}
