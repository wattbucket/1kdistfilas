{
 "cells": [
  {
   "cell_type": "code",
   "execution_count": 1,
   "metadata": {},
   "outputs": [
    {
     "data": {
      "text/html": [
       "<script>\n",
       "code_show=true; \n",
       "function code_toggle() {\n",
       " if (code_show){\n",
       " $('div.input').hide();\n",
       " } else {\n",
       " $('div.input').show();\n",
       " }\n",
       " code_show = !code_show\n",
       "} \n",
       "$( document ).ready(code_toggle);\n",
       "</script>\n",
       "<form action=\"javascript:code_toggle()\"><input type=\"submit\" value=\" \n",
       "Curso: Diseño y mantenimiento de instalaciones de energía solar fotovoltaica\n",
       "Alumno: Francisco Manuel Roman Gamez\n",
       "\n",
       "\"></form>\n"
      ],
      "text/plain": [
       "<IPython.core.display.HTML object>"
      ]
     },
     "metadata": {},
     "output_type": "display_data"
    }
   ],
   "source": [
    "%%html\n",
    "<script>\n",
    "code_show=true; \n",
    "function code_toggle() {\n",
    " if (code_show){\n",
    " $('div.input').hide();\n",
    " } else {\n",
    " $('div.input').show();\n",
    " }\n",
    " code_show = !code_show\n",
    "} \n",
    "$( document ).ready(code_toggle);\n",
    "</script>\n",
    "<form action=\"javascript:code_toggle()\"><input type=\"submit\" value=\" \n",
    "Curso: Diseño y mantenimiento de instalaciones de energía solar fotovoltaica\n",
    "Alumno: Francisco Manuel Roman Gamez\n",
    "\n",
    "\"></form>"
   ]
  },
  {
   "cell_type": "code",
   "execution_count": 2,
   "metadata": {},
   "outputs": [],
   "source": [
    "# pip install folium\n",
    "# https://www.earthdatascience.org/tutorials/introduction-to-leaflet-animated-maps/"
   ]
  },
  {
   "cell_type": "code",
   "execution_count": 3,
   "metadata": {},
   "outputs": [],
   "source": [
    "import folium\n",
    "from folium.plugins import MarkerCluster\n",
    "import pandas as pd\n"
   ]
  },
  {
   "cell_type": "code",
   "execution_count": 39,
   "metadata": {},
   "outputs": [
    {
     "data": {
      "text/html": [
       "<div style=\"width:100%;\"><div style=\"position:relative;width:100%;height:0;padding-bottom:60%;\"><span style=\"color:#565656\">Make this Notebook Trusted to load map: File -> Trust Notebook</span><iframe src=\"about:blank\" style=\"position:absolute;width:100%;height:100%;left:0;top:0;border:none !important;\" data-html=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 onload=\"this.contentDocument.open();this.contentDocument.write(atob(this.getAttribute('data-html')));this.contentDocument.close();\" allowfullscreen webkitallowfullscreen mozallowfullscreen></iframe></div></div>"
      ],
      "text/plain": [
       "<folium.folium.Map at 0x7f1e48f8a048>"
      ]
     },
     "execution_count": 39,
     "metadata": {},
     "output_type": "execute_result"
    }
   ],
   "source": [
    "#Define coordinates of where we want to center our map\n",
    "boulder_coords = [40.015, -4.2705]\n",
    "\n",
    "#Create the map\n",
    "\n",
    "#Display the map\n",
    "\n",
    "CU_Boulder_coords = [36.664207,-4.458674]\n",
    "East_Campus_coords = [36.663928,-4.457435]\n",
    "SEEC_coords = [36.664302,-4.456856]\n",
    "\n",
    "\n",
    "#Adding a tileset to our map\n",
    "map_with_tiles = folium.Map(location = boulder_coords, tiles = 'Stamen Toner',zoom_start = 6)\n",
    "#Add markers to the map\n",
    "folium.Marker(CU_Boulder_coords,    \n",
    "    popup=\"jajja\",\n",
    "    icon=folium.Icon(icon='fa solar-panel', color=\"blue\"),\n",
    "    draggable=True\n",
    "    ).add_to(map_with_tiles)\n",
    "\n",
    "# folium.RegularPolygonMarker(CU_Boulder_coords, popup = 'CU Boulder', fill_color = '#00ff40',\n",
    "#                             number_of_sides = 4, radius = 10).add_to(map_with_tiles)\n",
    "# folium.RegularPolygonMarker(East_Campus_coords, popup = 'EastCampus', fill_color = '#bf00ff',\n",
    "#                             number_of_sides = 5, radius = 10).add_to(map_with_tiles)\n",
    "# folium.RegularPolygonMarker(SEEC_coords, popup = 'SEEC Building', fill_color = '#ff0000',\n",
    "#                            number_of_sides = 8, radius = 10).add_to(map_with_tiles)\n",
    "\n",
    "map_with_tiles\n"
   ]
  },
  {
   "cell_type": "code",
   "execution_count": null,
   "metadata": {},
   "outputs": [],
   "source": []
  },
  {
   "cell_type": "code",
   "execution_count": null,
   "metadata": {},
   "outputs": [],
   "source": []
  },
  {
   "cell_type": "code",
   "execution_count": null,
   "metadata": {},
   "outputs": [],
   "source": []
  },
  {
   "cell_type": "code",
   "execution_count": null,
   "metadata": {},
   "outputs": [],
   "source": []
  },
  {
   "cell_type": "code",
   "execution_count": null,
   "metadata": {},
   "outputs": [],
   "source": []
  },
  {
   "cell_type": "code",
   "execution_count": null,
   "metadata": {},
   "outputs": [],
   "source": []
  },
  {
   "cell_type": "code",
   "execution_count": null,
   "metadata": {},
   "outputs": [],
   "source": []
  },
  {
   "cell_type": "code",
   "execution_count": null,
   "metadata": {},
   "outputs": [],
   "source": []
  },
  {
   "cell_type": "code",
   "execution_count": 5,
   "metadata": {},
   "outputs": [
    {
     "data": {
      "image/png": "[encoded data removed]",
      "text/plain": [
       "<Figure size 432x288 with 1 Axes>"
      ]
     },
     "metadata": {
      "needs_background": "light"
     },
     "output_type": "display_data"
    }
   ],
   "source": [
    "# ejemplo importar dtos de pvgis\n",
    "import requests as requests\n",
    "import pandas as pd \n",
    "import json\n",
    "\n",
    "r = requests.get(\"https://re.jrc.ec.europa.eu/api/MRcalc?lat=45&lon=8&horirrad=1&outputformat=json\")\n",
    "data = r.json()\n",
    "\n",
    "j=data[\"outputs\"][\"monthly\"]\n",
    "jf= json.dumps(j, indent=2)\n",
    "df=pd.read_json(jf, orient='records') \n",
    "# df\n",
    "# data\n",
    "# df.dtypes\n",
    "ax=df.plot(kind='bar',y=['H(h)_m']);ax.set_ylabel(\"$MJ / m^2 * d$\");\n"
   ]
  },
  {
   "cell_type": "code",
   "execution_count": 6,
   "metadata": {
    "code_folding": []
   },
   "outputs": [
    {
     "name": "stderr",
     "output_type": "stream",
     "text": [
      "BokehUserWarning: ColumnDataSource's columns must be of the same length. Current lengths: ('x', 12), ('y1', 6)\n"
     ]
    },
    {
     "data": {
      "text/plain": [
       "Text(0.5, 1.0, 'Generador 80 kWp en Toledo Lat.:40, orient.:0, incl.:30')"
      ]
     },
     "execution_count": 6,
     "metadata": {},
     "output_type": "execute_result"
    },
    {
     "data": {
      "image/png": "[encoded data removed]",
      "text/plain": [
       "<Figure size 1080x576 with 1 Axes>"
      ]
     },
     "metadata": {
      "needs_background": "light"
     },
     "output_type": "display_data"
    }
   ],
   "source": [
    "# /////////////////////////////////////////\n",
    "proyecto='ua92-te2-07'\n",
    "import pandas as pd\n",
    "import numpy as np\n",
    "\n",
    "# de los daltos del problema\n",
    "pmp=80 \n",
    "# pmp=1\n",
    "ciudad='Toledo'\n",
    "latitud=40\n",
    "orientacion=0\n",
    "inclinacion=30\n",
    "incl_tabla_k=[0,5,10,15,20,25,30,35,40,45,50,55,60,65,70,75,80,85,90]\n",
    "inclinacion_k=min(incl_tabla_k, key=lambda x:abs(x-inclinacion))\n",
    "# ctes\n",
    "pr=0.8 #performance ratio\n",
    "gcem=1\n",
    "\n",
    "\n",
    "s=pd.DataFrame()\n",
    "s=pd.read_csv('tablas/cheq4.csv', index_col=0, header=0)\n",
    "s=s[['dias','h',ciudad]]\n",
    "s.rename(columns={ciudad:'H'}, inplace=True)\n",
    "\n",
    "\n",
    "# \n",
    "k=pd.DataFrame()\n",
    "k=pd.read_csv('tablas/k'+str(latitud)+'.csv', index_col=0, header=0)\n",
    "k=k.T\n",
    "ki=k[[inclinacion_k]]\n",
    "# anadir la k \n",
    "s=s.join(ki)\n",
    "s.rename(columns={inclinacion_k:'k'}, inplace=True)\n",
    "# \n",
    "s['Gdm_0']=round(s.H/3.6,2)\n",
    "s['Gdm_I']=round(s.H*s.k/3.6,2)\n",
    "s['PR']=0.8\n",
    "s['Ep']=round(s.Gdm_I*pmp*s.PR/gcem,2) \n",
    "s['Epm']=s.dias*s.Ep\n",
    "s=s[['Gdm_0','Gdm_I','PR','Ep','Epm']]\n",
    "s.rename(columns={'Gdm_0':'$G_{dm}$','Gdm_I':'$G_{dmI}$'}, inplace=True)\n",
    "\n",
    "y=s[['Epm']].values\n",
    "ee=np.cumsum(y)\n",
    "ea=round(ee[len(y)-1],2)\n",
    "# ea\n",
    "x=s.index\n",
    "y=y.flatten()\n",
    "# //////////////////////////////////////////////////\n",
    "\n",
    "\n",
    "from bokeh.io import output_file, show\n",
    "from bokeh.models import FactorRange\n",
    "from bokeh.plotting import figure\n",
    "\n",
    "        # bokeh\n",
    "fig2 = figure()\n",
    "xx = [1, 2, 3, 4, 5,7]\n",
    "y1 = [2, 6, 4, 3, 5,55]\n",
    "fig2.varea(x = x,y1 = y1)\n",
    "show(fig2)\n",
    "# ///////////////////////////////////////////////////////////////////\n",
    "\n",
    "\n",
    "\n",
    "\n",
    "import matplotlib.pyplot as plt\n",
    "fig,ax=plt.subplots(figsize=(15,8))\n",
    "\n",
    "ax.bar(x, y)\n",
    "ax.set_ylabel('kWh')\n",
    "ax.set_xlabel('Mes')\n",
    "ax.set_title('Generador '+str(pmp)+' kWp'+' en '+ciudad+' Lat.:'+str(latitud)+', orient.:'+str(orientacion)+', incl.:'+str(inclinacion))\n",
    "# fig.savefig('figs/'+proyecto+'plt.png')\n",
    "# plt.close()\n"
   ]
  },
  {
   "cell_type": "markdown",
   "metadata": {
    "variables": {
     "ciudad": "Toledo",
     "inclinacion": "30",
     "latitud": "40",
     "pmp": "80"
    }
   },
   "source": [
    "**7.- Calcula la energía producida por un generador fotovoltaico de 80 Kwp instalados en la ciudad de Toledo con los módulos fotovoltaicos instalados con inclinación de 30º respecto a la horizontal y orientados a sur.**\n",
    "\n",
    "__RESPUESTA:__\n",
    "\n",
    "# Cálculo de la producción anual esperada\n",
    "\n",
    "Se utiliza  metodo del IDAE del apartado 7 del Pliego de Condiciones\n",
    "Técnicas de Instalaciones Conectadas a Red, Cálculo de la producción anual esperada.\n",
    "\n",
    "- En  la  Memoria  se  incluirán  las  producciones  mensuales  máximas  teóricas  en  función  de  la  irradiancia, la potencia instalada y el rendimiento de la instalación.\n",
    "\n",
    "- Los datos de entrada que deberá aportar el instalador son los siguientes: \n",
    "\n",
    "    - $G_{dm}(0)$. Valor  medio  mensual  y  anual  de  la  irradiación  diaria  sobre  superficie  horizontal,  en  $kWh/(m^2 \\cdot día)$, obtenido a partir de alguna de las siguientes fuentes: \n",
    "    \n",
    "        - Agencia Estatal de Meteorología. \n",
    "        - Organismo autonómico oficial. \n",
    "        - Otras fuentes de datos de reconocida solvencia, o las expresamente señaladas por el IDAE. \n",
    "\n",
    "    - $G_{dm}(\\alpha , \\beta  )$. Valor  medio  mensual  y  anual  de  la  irradiación  diaria  sobre  el  plano  del  generador  en  $kWh/(m^2 \\cdot día)$, obtenido a partir del anterior, y en el que se hayan descontado las pérdidas por sombreado en caso de ser éstas superiores a un 10 % anual . El parámetro $\\alpha$ representa el azimut y $\\beta$ la inclinación del generador.\n",
    "    $$\n",
    "    G_{dm}(\\alpha , \\beta  )=G_{dm}(0) \\cdot k  \\label{eq1}\n",
    "    $$\n",
    "    - Rendimiento energético de la instalación o “performance ratio”, PR. Eficiencia de la instalación en condiciones reales de trabajo, que tiene en cuenta: \n",
    "        - La dependencia de la eficiencia con la temperatura. \n",
    "        -  La eficiencia del cableado. \n",
    "        -  Las pérdidas por dispersión de parámetros y suciedad. \n",
    "        -  Las pérdidas por errores en el seguimiento del punto de máxima potencia. \n",
    "        -  La eficiencia energética del inversor. \n",
    "        -  Otros.\n",
    "\n",
    "    - La estimación de la energía inyectada se realizará de acuerdo con la siguiente ecuación: \n",
    " \n",
    " $$\n",
    " E_p=\\frac { G_{dm}(\\alpha, \\beta) \\cdot P_{mp} \\cdot PR}{G_{CEM}} \\label{eq2}\n",
    " $$\n",
    " \n",
    "         - Donde:\n",
    "         \n",
    "$P_{mp}$= Potencia pico del generador\n",
    "\n",
    "$G_{CEM}=1 kW/m^2$\n",
    "\n",
    "__para el proyecto,__ \n",
    "\n",
    "y los valores de la instalacion:\n",
    "* $P_{mp}$= {{pmp}} KW ; Potencia pico del generador fotovoltaico  \n",
    "* $G_{CEM}$ =  1 kW/m^2; Irradiancia en Condiciones Estándar de Medida\n",
    "* $PR$=0.8 ; Performance ratio (PR) estimado constante a lo largo del año.\n",
    "* $ G_{dm}=G_{dm}(0)$ en $kWh/m^2 \\cdot dia$;  Se obienen los datos con el programa CHEQ4 para {{ciudad}}\n",
    "* $k$; coeficiente que es función de la inclinación {{inclinacion}} de los captadores y la latitud de {{latitud}}$^o$, mas cercanos cotenidos en las tablas del PCT de instalaciones de baja temperatura del IDAE\n",
    "* $ G_{dmI}=G_{dm}(\\alpha, \\beta) $ en $kWh/m^2 \\cdot dia$;  Se obtiene aplicando la formula $(\\ref{eq1})$\n",
    "* $E_p $ en $kWh/dia$;  Se obtiene aplicando la formula $(\\ref{eq2})$\n",
    "* $E_{pm} = E_p \\cdot dias_{mes}$ en $kWh$; Estimación de energía mensual inyectada  \n"
   ]
  },
  {
   "cell_type": "markdown",
   "metadata": {
    "variables": {
     "ea": "132277.76",
     "s": "<div>\n<style scoped>\n    .dataframe tbody tr th:only-of-type {\n        vertical-align: middle;\n    }\n\n    .dataframe tbody tr th {\n        vertical-align: top;\n    }\n\n    .dataframe thead th {\n        text-align: right;\n    }\n</style>\n<table border=\"1\" class=\"dataframe\">\n  <thead>\n    <tr style=\"text-align: right;\">\n      <th></th>\n      <th>$G_{dm}$</th>\n      <th>$G_{dmI}$</th>\n      <th>PR</th>\n      <th>Ep</th>\n      <th>Epm</th>\n    </tr>\n    <tr>\n      <th>mes</th>\n      <th></th>\n      <th></th>\n      <th></th>\n      <th></th>\n      <th></th>\n    </tr>\n  </thead>\n  <tbody>\n    <tr>\n      <th>Ene</th>\n      <td>2.39</td>\n      <td>3.20</td>\n      <td>0.8</td>\n      <td>204.80</td>\n      <td>6348.80</td>\n    </tr>\n    <tr>\n      <th>Feb</th>\n      <td>3.36</td>\n      <td>4.24</td>\n      <td>0.8</td>\n      <td>271.36</td>\n      <td>7598.08</td>\n    </tr>\n    <tr>\n      <th>Mar</th>\n      <td>4.81</td>\n      <td>5.62</td>\n      <td>0.8</td>\n      <td>359.68</td>\n      <td>11150.08</td>\n    </tr>\n    <tr>\n      <th>Abr</th>\n      <td>5.94</td>\n      <td>6.36</td>\n      <td>0.8</td>\n      <td>407.04</td>\n      <td>12211.20</td>\n    </tr>\n    <tr>\n      <th>May</th>\n      <td>6.72</td>\n      <td>6.79</td>\n      <td>0.8</td>\n      <td>434.56</td>\n      <td>13471.36</td>\n    </tr>\n    <tr>\n      <th>Jun</th>\n      <td>7.86</td>\n      <td>7.70</td>\n      <td>0.8</td>\n      <td>492.80</td>\n      <td>14784.00</td>\n    </tr>\n    <tr>\n      <th>Jul</th>\n      <td>8.08</td>\n      <td>8.16</td>\n      <td>0.8</td>\n      <td>522.24</td>\n      <td>16189.44</td>\n    </tr>\n    <tr>\n      <th>Ago</th>\n      <td>7.08</td>\n      <td>7.72</td>\n      <td>0.8</td>\n      <td>494.08</td>\n      <td>15316.48</td>\n    </tr>\n    <tr>\n      <th>Sep</th>\n      <td>5.58</td>\n      <td>6.70</td>\n      <td>0.8</td>\n      <td>428.80</td>\n      <td>12864.00</td>\n    </tr>\n    <tr>\n      <th>Oct</th>\n      <td>3.72</td>\n      <td>4.99</td>\n      <td>0.8</td>\n      <td>319.36</td>\n      <td>9900.16</td>\n    </tr>\n    <tr>\n      <th>Nov</th>\n      <td>2.56</td>\n      <td>3.65</td>\n      <td>0.8</td>\n      <td>233.60</td>\n      <td>7008.00</td>\n    </tr>\n    <tr>\n      <th>Dic</th>\n      <td>1.94</td>\n      <td>2.74</td>\n      <td>0.8</td>\n      <td>175.36</td>\n      <td>5436.16</td>\n    </tr>\n  </tbody>\n</table>\n</div>"
    }
   },
   "source": [
    ">$E_{anual}=${{ea}} kWh\n",
    "\n",
    "Se genera la tabla con los valores medios diarios y mensuales .\n",
    "{{s}}\n",
    "\n",
    "\n",
    "![alt text](figs/ua92-te2-07plt.png \"Title\")"
   ]
  },
  {
   "cell_type": "code",
   "execution_count": 7,
   "metadata": {},
   "outputs": [
    {
     "data": {
      "text/html": [
       "<script>\n",
       "code_show=true; \n",
       "function code_toggle() {\n",
       " if (code_show){\n",
       " $('div.input').hide();\n",
       " } else {\n",
       " $('div.input').show();\n",
       " }\n",
       " code_show = !code_show\n",
       "} \n",
       "$( document ).ready(code_toggle);\n",
       "</script>\n",
       "<form action=\"javascript:code_toggle()\"><input type=\"submit\" value=\" \n",
       "Curso: Diseño y mantenimiento de instalaciones de energía solar fotovoltaica\n",
       "Alumno: Francisco Manuel Roman Gamez\n",
       "\n",
       "\"></form>\n"
      ],
      "text/plain": [
       "<IPython.core.display.HTML object>"
      ]
     },
     "metadata": {},
     "output_type": "display_data"
    }
   ],
   "source": [
    "%%html\n",
    "<script>\n",
    "code_show=true; \n",
    "function code_toggle() {\n",
    " if (code_show){\n",
    " $('div.input').hide();\n",
    " } else {\n",
    " $('div.input').show();\n",
    " }\n",
    " code_show = !code_show\n",
    "} \n",
    "$( document ).ready(code_toggle);\n",
    "</script>\n",
    "<form action=\"javascript:code_toggle()\"><input type=\"submit\" value=\" \n",
    "Curso: Diseño y mantenimiento de instalaciones de energía solar fotovoltaica\n",
    "Alumno: Francisco Manuel Roman Gamez\n",
    "\n",
    "\"></form>"
   ]
  },
  {
   "cell_type": "code",
   "execution_count": null,
   "metadata": {},
   "outputs": [],
   "source": []
  }
 ],
 "metadata": {
  "kernelspec": {
   "display_name": "Python 3",
   "language": "python",
   "name": "python3"
  },
  "language_info": {
   "codemirror_mode": {
    "name": "ipython",
    "version": 3
   },
   "file_extension": ".py",
   "mimetype": "text/x-python",
   "name": "python",
   "nbconvert_exporter": "python",
   "pygments_lexer": "ipython3",
   "version": "3.6.9"
  },
  "latex_envs": {
   "LaTeX_envs_menu_present": true,
   "autoclose": false,
   "autocomplete": true,
   "bibliofile": "biblio.bib",
   "cite_by": "apalike",
   "current_citInitial": 1,
   "eqLabelWithNumbers": true,
   "eqNumInitial": 1,
   "hotkeys": {
    "equation": "Ctrl-E",
    "itemize": "Ctrl-I"
   },
   "labels_anchors": false,
   "latex_user_defs": false,
   "report_style_numbering": false,
   "user_envs_cfg": false
  },
  "varInspector": {
   "cols": {
    "lenName": 16,
    "lenType": 16,
    "lenVar": 40
   },
   "kernels_config": {
    "python": {
     "delete_cmd_postfix": "",
     "delete_cmd_prefix": "del ",
     "library": "var_list.py",
     "varRefreshCmd": "print(var_dic_list())"
    },
    "r": {
     "delete_cmd_postfix": ") ",
     "delete_cmd_prefix": "rm(",
     "library": "var_list.r",
     "varRefreshCmd": "cat(var_dic_list()) "
    }
   },
   "types_to_exclude": [
    "module",
    "function",
    "builtin_function_or_method",
    "instance",
    "_Feature"
   ],
   "window_display": false
  }
 },
 "nbformat": 4,
 "nbformat_minor": 4
}
